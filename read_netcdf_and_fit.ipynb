{
 "cells": [
  {
   "cell_type": "code",
   "execution_count": 1,
   "metadata": {},
   "outputs": [],
   "source": [
    "%matplotlib inline\n",
    "import matplotlib.pyplot as plt\n",
    "import pandas as pd\n",
    "import xarray as xr"
   ]
  },
  {
   "cell_type": "markdown",
   "metadata": {},
   "source": [
    "# Preprocessing"
   ]
  },
  {
   "cell_type": "code",
   "execution_count": 2,
   "metadata": {},
   "outputs": [
    {
     "data": {
      "text/plain": [
       "<xarray.DataArray 'data' (sample: 57852486, var: 88)>\n",
       "[5091018768 values with dtype=float64]\n",
       "Coordinates:\n",
       "  * var      (var) object 'I' 'J' 'L' 'TEMP' 'PRESS' 'NUMDEN' 'H2O' 'JV1' ...\n",
       "  * sample   (sample) int64 1 2 3 4 5 6 7 8 9 10 11 12 13 14 15 16 17 18 19 ..."
      ]
     },
     "execution_count": 2,
     "metadata": {},
     "output_type": "execute_result"
    }
   ],
   "source": [
    "dr_x_full = xr.open_dataarray('./train_X.nc')\n",
    "dr_x_full"
   ]
  },
  {
   "cell_type": "code",
   "execution_count": 3,
   "metadata": {},
   "outputs": [
    {
     "data": {
      "text/plain": [
       "<xarray.DataArray 'data' (sample: 57852486, var: 55)>\n",
       "[3181886730 values with dtype=float64]\n",
       "Coordinates:\n",
       "  * var      (var) object 'NO' 'O3' 'PAN' 'CO' 'ALK4' 'ISOP' 'HNO3' 'H2O2' ...\n",
       "  * sample   (sample) int64 1 2 3 4 5 6 7 8 9 10 11 12 13 14 15 16 17 18 19 ..."
      ]
     },
     "execution_count": 3,
     "metadata": {},
     "output_type": "execute_result"
    }
   ],
   "source": [
    "dr_y_full = xr.open_dataarray('./train_Y.nc')\n",
    "dr_y_full"
   ]
  },
  {
   "cell_type": "code",
   "execution_count": 4,
   "metadata": {},
   "outputs": [
    {
     "data": {
      "text/plain": [
       "(0.704, 0.44)"
      ]
     },
     "execution_count": 4,
     "metadata": {},
     "output_type": "execute_result"
    }
   ],
   "source": [
    "# get a subset\n",
    "# just experimenting, so don't read all the 60GB data\n",
    "subset_index = slice(0, 1000000)\n",
    "dr_x = dr_x_full.isel(sample=subset_index)\n",
    "dr_y = dr_y_full.isel(sample=subset_index)\n",
    "\n",
    "dr_x.nbytes / 1e9, dr_y.nbytes / 1e9 # size in GB"
   ]
  },
  {
   "cell_type": "code",
   "execution_count": 5,
   "metadata": {},
   "outputs": [
    {
     "data": {
      "text/html": [
       "<div>\n",
       "<style scoped>\n",
       "    .dataframe tbody tr th:only-of-type {\n",
       "        vertical-align: middle;\n",
       "    }\n",
       "\n",
       "    .dataframe tbody tr th {\n",
       "        vertical-align: top;\n",
       "    }\n",
       "\n",
       "    .dataframe thead th {\n",
       "        text-align: right;\n",
       "    }\n",
       "</style>\n",
       "<table border=\"1\" class=\"dataframe\">\n",
       "  <thead>\n",
       "    <tr style=\"text-align: right;\">\n",
       "      <th>var</th>\n",
       "      <th>TEMP</th>\n",
       "      <th>PRESS</th>\n",
       "      <th>NUMDEN</th>\n",
       "      <th>H2O</th>\n",
       "      <th>JV1</th>\n",
       "      <th>JV2</th>\n",
       "      <th>JV3</th>\n",
       "      <th>JV4</th>\n",
       "      <th>JV5</th>\n",
       "      <th>JV6</th>\n",
       "      <th>...</th>\n",
       "      <th>GLYC</th>\n",
       "      <th>MVKN</th>\n",
       "      <th>MACRN</th>\n",
       "      <th>RIP</th>\n",
       "      <th>IEPOX</th>\n",
       "      <th>MAP</th>\n",
       "      <th>NO2</th>\n",
       "      <th>NO3</th>\n",
       "      <th>HNO2</th>\n",
       "      <th>CH4</th>\n",
       "    </tr>\n",
       "    <tr>\n",
       "      <th>sample</th>\n",
       "      <th></th>\n",
       "      <th></th>\n",
       "      <th></th>\n",
       "      <th></th>\n",
       "      <th></th>\n",
       "      <th></th>\n",
       "      <th></th>\n",
       "      <th></th>\n",
       "      <th></th>\n",
       "      <th></th>\n",
       "      <th></th>\n",
       "      <th></th>\n",
       "      <th></th>\n",
       "      <th></th>\n",
       "      <th></th>\n",
       "      <th></th>\n",
       "      <th></th>\n",
       "      <th></th>\n",
       "      <th></th>\n",
       "      <th></th>\n",
       "      <th></th>\n",
       "    </tr>\n",
       "  </thead>\n",
       "  <tbody>\n",
       "    <tr>\n",
       "      <th>1</th>\n",
       "      <td>235.649994</td>\n",
       "      <td>699.340027</td>\n",
       "      <td>2.149000e+19</td>\n",
       "      <td>4.388300e+15</td>\n",
       "      <td>0.000000e+00</td>\n",
       "      <td>0.000000</td>\n",
       "      <td>0.000000e+00</td>\n",
       "      <td>0.0</td>\n",
       "      <td>0.0</td>\n",
       "      <td>0.0</td>\n",
       "      <td>...</td>\n",
       "      <td>3657100.0</td>\n",
       "      <td>384960.0</td>\n",
       "      <td>18023.000000</td>\n",
       "      <td>126330.0</td>\n",
       "      <td>2135200.0</td>\n",
       "      <td>150790000.0</td>\n",
       "      <td>2447100.0</td>\n",
       "      <td>572.570007</td>\n",
       "      <td>287590.0</td>\n",
       "      <td>3.794400e+13</td>\n",
       "    </tr>\n",
       "    <tr>\n",
       "      <th>2</th>\n",
       "      <td>237.779999</td>\n",
       "      <td>663.900024</td>\n",
       "      <td>2.021800e+19</td>\n",
       "      <td>5.046400e+15</td>\n",
       "      <td>0.000000e+00</td>\n",
       "      <td>0.000000</td>\n",
       "      <td>0.000000e+00</td>\n",
       "      <td>0.0</td>\n",
       "      <td>0.0</td>\n",
       "      <td>0.0</td>\n",
       "      <td>...</td>\n",
       "      <td>4072600.0</td>\n",
       "      <td>459270.0</td>\n",
       "      <td>20907.000000</td>\n",
       "      <td>133940.0</td>\n",
       "      <td>2258400.0</td>\n",
       "      <td>145560000.0</td>\n",
       "      <td>5122700.0</td>\n",
       "      <td>1776.400024</td>\n",
       "      <td>616240.0</td>\n",
       "      <td>3.569700e+13</td>\n",
       "    </tr>\n",
       "    <tr>\n",
       "      <th>3</th>\n",
       "      <td>245.339996</td>\n",
       "      <td>865.609985</td>\n",
       "      <td>2.554300e+19</td>\n",
       "      <td>1.376300e+16</td>\n",
       "      <td>9.449700e-30</td>\n",
       "      <td>0.000028</td>\n",
       "      <td>3.341500e-10</td>\n",
       "      <td>0.0</td>\n",
       "      <td>0.0</td>\n",
       "      <td>0.0</td>\n",
       "      <td>...</td>\n",
       "      <td>5767600.0</td>\n",
       "      <td>803700.0</td>\n",
       "      <td>33243.000000</td>\n",
       "      <td>173580.0</td>\n",
       "      <td>2650700.0</td>\n",
       "      <td>153570000.0</td>\n",
       "      <td>17193000.0</td>\n",
       "      <td>14000.000000</td>\n",
       "      <td>1511300.0</td>\n",
       "      <td>4.510100e+13</td>\n",
       "    </tr>\n",
       "    <tr>\n",
       "      <th>4</th>\n",
       "      <td>228.240005</td>\n",
       "      <td>425.459991</td>\n",
       "      <td>1.349100e+19</td>\n",
       "      <td>2.048500e+14</td>\n",
       "      <td>1.069500e-22</td>\n",
       "      <td>0.000166</td>\n",
       "      <td>1.019900e-11</td>\n",
       "      <td>0.0</td>\n",
       "      <td>0.0</td>\n",
       "      <td>0.0</td>\n",
       "      <td>...</td>\n",
       "      <td>4622400.0</td>\n",
       "      <td>455790.0</td>\n",
       "      <td>4241.100098</td>\n",
       "      <td>205880.0</td>\n",
       "      <td>3285900.0</td>\n",
       "      <td>135920000.0</td>\n",
       "      <td>14513000.0</td>\n",
       "      <td>6620.799805</td>\n",
       "      <td>46879.0</td>\n",
       "      <td>2.382100e+13</td>\n",
       "    </tr>\n",
       "    <tr>\n",
       "      <th>5</th>\n",
       "      <td>249.279999</td>\n",
       "      <td>920.179993</td>\n",
       "      <td>2.672300e+19</td>\n",
       "      <td>1.908400e+16</td>\n",
       "      <td>4.775200e-30</td>\n",
       "      <td>0.000084</td>\n",
       "      <td>1.069300e-09</td>\n",
       "      <td>0.0</td>\n",
       "      <td>0.0</td>\n",
       "      <td>0.0</td>\n",
       "      <td>...</td>\n",
       "      <td>3875300.0</td>\n",
       "      <td>515530.0</td>\n",
       "      <td>19379.000000</td>\n",
       "      <td>102320.0</td>\n",
       "      <td>1660900.0</td>\n",
       "      <td>150530000.0</td>\n",
       "      <td>4876200.0</td>\n",
       "      <td>6205.600098</td>\n",
       "      <td>458890.0</td>\n",
       "      <td>4.718400e+13</td>\n",
       "    </tr>\n",
       "  </tbody>\n",
       "</table>\n",
       "<p>5 rows × 85 columns</p>\n",
       "</div>"
      ],
      "text/plain": [
       "var           TEMP       PRESS        NUMDEN           H2O           JV1  \\\n",
       "sample                                                                     \n",
       "1       235.649994  699.340027  2.149000e+19  4.388300e+15  0.000000e+00   \n",
       "2       237.779999  663.900024  2.021800e+19  5.046400e+15  0.000000e+00   \n",
       "3       245.339996  865.609985  2.554300e+19  1.376300e+16  9.449700e-30   \n",
       "4       228.240005  425.459991  1.349100e+19  2.048500e+14  1.069500e-22   \n",
       "5       249.279999  920.179993  2.672300e+19  1.908400e+16  4.775200e-30   \n",
       "\n",
       "var          JV2           JV3  JV4  JV5  JV6      ...            GLYC  \\\n",
       "sample                                             ...                   \n",
       "1       0.000000  0.000000e+00  0.0  0.0  0.0      ...       3657100.0   \n",
       "2       0.000000  0.000000e+00  0.0  0.0  0.0      ...       4072600.0   \n",
       "3       0.000028  3.341500e-10  0.0  0.0  0.0      ...       5767600.0   \n",
       "4       0.000166  1.019900e-11  0.0  0.0  0.0      ...       4622400.0   \n",
       "5       0.000084  1.069300e-09  0.0  0.0  0.0      ...       3875300.0   \n",
       "\n",
       "var         MVKN         MACRN       RIP      IEPOX          MAP         NO2  \\\n",
       "sample                                                                         \n",
       "1       384960.0  18023.000000  126330.0  2135200.0  150790000.0   2447100.0   \n",
       "2       459270.0  20907.000000  133940.0  2258400.0  145560000.0   5122700.0   \n",
       "3       803700.0  33243.000000  173580.0  2650700.0  153570000.0  17193000.0   \n",
       "4       455790.0   4241.100098  205880.0  3285900.0  135920000.0  14513000.0   \n",
       "5       515530.0  19379.000000  102320.0  1660900.0  150530000.0   4876200.0   \n",
       "\n",
       "var              NO3       HNO2           CH4  \n",
       "sample                                         \n",
       "1         572.570007   287590.0  3.794400e+13  \n",
       "2        1776.400024   616240.0  3.569700e+13  \n",
       "3       14000.000000  1511300.0  4.510100e+13  \n",
       "4        6620.799805    46879.0  2.382100e+13  \n",
       "5        6205.600098   458890.0  4.718400e+13  \n",
       "\n",
       "[5 rows x 85 columns]"
      ]
     },
     "execution_count": 5,
     "metadata": {},
     "output_type": "execute_result"
    }
   ],
   "source": [
    "# convert xarray DataArray to pandas dataframe\n",
    "df_x = dr_x.to_pandas()\n",
    "df_x.drop(['I', 'J', 'L'], axis=1, inplace=True)\n",
    "df_x.head()"
   ]
  },
  {
   "cell_type": "code",
   "execution_count": 6,
   "metadata": {},
   "outputs": [
    {
     "data": {
      "text/plain": [
       "Index(['TEMP', 'PRESS', 'NUMDEN', 'H2O', 'JV1', 'JV2', 'JV3', 'JV4', 'JV5',\n",
       "       'JV6', 'JV7', 'JV8', 'JV9', 'JV10', 'JV11', 'JV12', 'NO', 'O3', 'PAN',\n",
       "       'CO', 'ALK4', 'ISOP', 'HNO3', 'H2O2', 'ACET', 'MEK', 'ALD2', 'RCHO',\n",
       "       'MVK', 'MACR', 'PMN', 'PPN', 'R4N2', 'PRPE', 'C3H8', 'CH2O', 'C2H6',\n",
       "       'N2O5', 'HNO4', 'MP', 'DMS', 'SO2', 'SO4', 'SO4s', 'MSA', 'NH3', 'NH4',\n",
       "       'NIT', 'NITs', 'BCPI', 'OCPI', 'BCPO', 'OCPO', 'DST1', 'DST2', 'DST3',\n",
       "       'DST4', 'SALA', 'SALC', 'Br2', 'Br', 'BrO', 'HOBr', 'HBr', 'BrNO2',\n",
       "       'BrNO3', 'CHBr3', 'CH2Br2', 'CH3Br', 'MPN', 'ISOPND', 'ISOPNB', 'MOBA',\n",
       "       'PROPNN', 'HAC', 'GLYC', 'MVKN', 'MACRN', 'RIP', 'IEPOX', 'MAP', 'NO2',\n",
       "       'NO3', 'HNO2', 'CH4'],\n",
       "      dtype='object', name='var')"
      ]
     },
     "execution_count": 6,
     "metadata": {},
     "output_type": "execute_result"
    }
   ],
   "source": [
    "df_x.columns"
   ]
  },
  {
   "cell_type": "code",
   "execution_count": 7,
   "metadata": {},
   "outputs": [
    {
     "data": {
      "text/html": [
       "<div>\n",
       "<style scoped>\n",
       "    .dataframe tbody tr th:only-of-type {\n",
       "        vertical-align: middle;\n",
       "    }\n",
       "\n",
       "    .dataframe tbody tr th {\n",
       "        vertical-align: top;\n",
       "    }\n",
       "\n",
       "    .dataframe thead th {\n",
       "        text-align: right;\n",
       "    }\n",
       "</style>\n",
       "<table border=\"1\" class=\"dataframe\">\n",
       "  <thead>\n",
       "    <tr style=\"text-align: right;\">\n",
       "      <th>var</th>\n",
       "      <th>NO</th>\n",
       "      <th>O3</th>\n",
       "      <th>PAN</th>\n",
       "      <th>CO</th>\n",
       "      <th>ALK4</th>\n",
       "      <th>ISOP</th>\n",
       "      <th>HNO3</th>\n",
       "      <th>H2O2</th>\n",
       "      <th>ACET</th>\n",
       "      <th>MEK</th>\n",
       "      <th>...</th>\n",
       "      <th>MVKN</th>\n",
       "      <th>MACRN</th>\n",
       "      <th>RIP</th>\n",
       "      <th>IEPOX</th>\n",
       "      <th>MAP</th>\n",
       "      <th>NO2</th>\n",
       "      <th>NO3</th>\n",
       "      <th>HNO2</th>\n",
       "      <th>HO2</th>\n",
       "      <th>OH</th>\n",
       "    </tr>\n",
       "    <tr>\n",
       "      <th>sample</th>\n",
       "      <th></th>\n",
       "      <th></th>\n",
       "      <th></th>\n",
       "      <th></th>\n",
       "      <th></th>\n",
       "      <th></th>\n",
       "      <th></th>\n",
       "      <th></th>\n",
       "      <th></th>\n",
       "      <th></th>\n",
       "      <th></th>\n",
       "      <th></th>\n",
       "      <th></th>\n",
       "      <th></th>\n",
       "      <th></th>\n",
       "      <th></th>\n",
       "      <th></th>\n",
       "      <th></th>\n",
       "      <th></th>\n",
       "      <th></th>\n",
       "      <th></th>\n",
       "    </tr>\n",
       "  </thead>\n",
       "  <tbody>\n",
       "    <tr>\n",
       "      <th>1</th>\n",
       "      <td>1.0</td>\n",
       "      <td>5.960400e+11</td>\n",
       "      <td>174490000.0</td>\n",
       "      <td>1.492900e+12</td>\n",
       "      <td>1.081700e+09</td>\n",
       "      <td>36271.000000</td>\n",
       "      <td>28518.0</td>\n",
       "      <td>8.904100e+08</td>\n",
       "      <td>5.898300e+09</td>\n",
       "      <td>247590000.0</td>\n",
       "      <td>...</td>\n",
       "      <td>384960.0</td>\n",
       "      <td>18023.000000</td>\n",
       "      <td>126320.0</td>\n",
       "      <td>2135200.0</td>\n",
       "      <td>150790000.0</td>\n",
       "      <td>2393400.0</td>\n",
       "      <td>714.140015</td>\n",
       "      <td>287820.0</td>\n",
       "      <td>28505.0</td>\n",
       "      <td>37.375999</td>\n",
       "    </tr>\n",
       "    <tr>\n",
       "      <th>2</th>\n",
       "      <td>1.0</td>\n",
       "      <td>5.873300e+11</td>\n",
       "      <td>182140000.0</td>\n",
       "      <td>1.407500e+12</td>\n",
       "      <td>1.079700e+09</td>\n",
       "      <td>39870.000000</td>\n",
       "      <td>61868.0</td>\n",
       "      <td>8.449100e+08</td>\n",
       "      <td>5.424200e+09</td>\n",
       "      <td>241690000.0</td>\n",
       "      <td>...</td>\n",
       "      <td>459270.0</td>\n",
       "      <td>20907.000000</td>\n",
       "      <td>133940.0</td>\n",
       "      <td>2258400.0</td>\n",
       "      <td>145560000.0</td>\n",
       "      <td>5023100.0</td>\n",
       "      <td>1775.699951</td>\n",
       "      <td>616850.0</td>\n",
       "      <td>27071.0</td>\n",
       "      <td>39.639999</td>\n",
       "    </tr>\n",
       "    <tr>\n",
       "      <th>3</th>\n",
       "      <td>1389200.0</td>\n",
       "      <td>6.997100e+11</td>\n",
       "      <td>280329984.0</td>\n",
       "      <td>1.794500e+12</td>\n",
       "      <td>1.827100e+09</td>\n",
       "      <td>94271.000000</td>\n",
       "      <td>3104800.0</td>\n",
       "      <td>8.519200e+08</td>\n",
       "      <td>6.543400e+09</td>\n",
       "      <td>369110016.0</td>\n",
       "      <td>...</td>\n",
       "      <td>803390.0</td>\n",
       "      <td>33113.000000</td>\n",
       "      <td>172960.0</td>\n",
       "      <td>2649900.0</td>\n",
       "      <td>153590000.0</td>\n",
       "      <td>13766000.0</td>\n",
       "      <td>12886.000000</td>\n",
       "      <td>1108900.0</td>\n",
       "      <td>5731800.0</td>\n",
       "      <td>15475.000000</td>\n",
       "    </tr>\n",
       "    <tr>\n",
       "      <th>4</th>\n",
       "      <td>3308000.0</td>\n",
       "      <td>6.793600e+11</td>\n",
       "      <td>401910016.0</td>\n",
       "      <td>9.184300e+11</td>\n",
       "      <td>4.638500e+08</td>\n",
       "      <td>5007.799805</td>\n",
       "      <td>720129984.0</td>\n",
       "      <td>1.989900e+09</td>\n",
       "      <td>5.267000e+09</td>\n",
       "      <td>136790000.0</td>\n",
       "      <td>...</td>\n",
       "      <td>455150.0</td>\n",
       "      <td>4197.799805</td>\n",
       "      <td>202220.0</td>\n",
       "      <td>3284100.0</td>\n",
       "      <td>135880000.0</td>\n",
       "      <td>15090000.0</td>\n",
       "      <td>7687.100098</td>\n",
       "      <td>33241.0</td>\n",
       "      <td>7166100.0</td>\n",
       "      <td>41420.000000</td>\n",
       "    </tr>\n",
       "    <tr>\n",
       "      <th>5</th>\n",
       "      <td>597180.0</td>\n",
       "      <td>7.277600e+11</td>\n",
       "      <td>207420000.0</td>\n",
       "      <td>1.875400e+12</td>\n",
       "      <td>1.589700e+09</td>\n",
       "      <td>62215.000000</td>\n",
       "      <td>1630700.0</td>\n",
       "      <td>6.895500e+08</td>\n",
       "      <td>5.534400e+09</td>\n",
       "      <td>345449984.0</td>\n",
       "      <td>...</td>\n",
       "      <td>515030.0</td>\n",
       "      <td>19260.000000</td>\n",
       "      <td>101750.0</td>\n",
       "      <td>1660000.0</td>\n",
       "      <td>150510000.0</td>\n",
       "      <td>3584400.0</td>\n",
       "      <td>4519.500000</td>\n",
       "      <td>245020.0</td>\n",
       "      <td>7377700.0</td>\n",
       "      <td>24548.000000</td>\n",
       "    </tr>\n",
       "  </tbody>\n",
       "</table>\n",
       "<p>5 rows × 55 columns</p>\n",
       "</div>"
      ],
      "text/plain": [
       "var            NO            O3          PAN            CO          ALK4  \\\n",
       "sample                                                                     \n",
       "1             1.0  5.960400e+11  174490000.0  1.492900e+12  1.081700e+09   \n",
       "2             1.0  5.873300e+11  182140000.0  1.407500e+12  1.079700e+09   \n",
       "3       1389200.0  6.997100e+11  280329984.0  1.794500e+12  1.827100e+09   \n",
       "4       3308000.0  6.793600e+11  401910016.0  9.184300e+11  4.638500e+08   \n",
       "5        597180.0  7.277600e+11  207420000.0  1.875400e+12  1.589700e+09   \n",
       "\n",
       "var             ISOP         HNO3          H2O2          ACET          MEK  \\\n",
       "sample                                                                       \n",
       "1       36271.000000      28518.0  8.904100e+08  5.898300e+09  247590000.0   \n",
       "2       39870.000000      61868.0  8.449100e+08  5.424200e+09  241690000.0   \n",
       "3       94271.000000    3104800.0  8.519200e+08  6.543400e+09  369110016.0   \n",
       "4        5007.799805  720129984.0  1.989900e+09  5.267000e+09  136790000.0   \n",
       "5       62215.000000    1630700.0  6.895500e+08  5.534400e+09  345449984.0   \n",
       "\n",
       "var         ...           MVKN         MACRN       RIP      IEPOX  \\\n",
       "sample      ...                                                     \n",
       "1           ...       384960.0  18023.000000  126320.0  2135200.0   \n",
       "2           ...       459270.0  20907.000000  133940.0  2258400.0   \n",
       "3           ...       803390.0  33113.000000  172960.0  2649900.0   \n",
       "4           ...       455150.0   4197.799805  202220.0  3284100.0   \n",
       "5           ...       515030.0  19260.000000  101750.0  1660000.0   \n",
       "\n",
       "var             MAP         NO2           NO3       HNO2        HO2  \\\n",
       "sample                                                                \n",
       "1       150790000.0   2393400.0    714.140015   287820.0    28505.0   \n",
       "2       145560000.0   5023100.0   1775.699951   616850.0    27071.0   \n",
       "3       153590000.0  13766000.0  12886.000000  1108900.0  5731800.0   \n",
       "4       135880000.0  15090000.0   7687.100098    33241.0  7166100.0   \n",
       "5       150510000.0   3584400.0   4519.500000   245020.0  7377700.0   \n",
       "\n",
       "var               OH  \n",
       "sample                \n",
       "1          37.375999  \n",
       "2          39.639999  \n",
       "3       15475.000000  \n",
       "4       41420.000000  \n",
       "5       24548.000000  \n",
       "\n",
       "[5 rows x 55 columns]"
      ]
     },
     "execution_count": 7,
     "metadata": {},
     "output_type": "execute_result"
    }
   ],
   "source": [
    "df_y = dr_y.to_pandas()\n",
    "df_y.head()"
   ]
  },
  {
   "cell_type": "code",
   "execution_count": 8,
   "metadata": {},
   "outputs": [
    {
     "data": {
      "text/plain": [
       "Index(['NO', 'O3', 'PAN', 'CO', 'ALK4', 'ISOP', 'HNO3', 'H2O2', 'ACET', 'MEK',\n",
       "       'ALD2', 'RCHO', 'MVK', 'MACR', 'PMN', 'PPN', 'R4N2', 'PRPE', 'C3H8',\n",
       "       'CH2O', 'C2H6', 'N2O5', 'HNO4', 'MP', 'DMS', 'SO2', 'SO4', 'MSA', 'Br2',\n",
       "       'Br', 'BrO', 'HOBr', 'HBr', 'BrNO2', 'BrNO3', 'CHBr3', 'CH2Br2',\n",
       "       'CH3Br', 'MPN', 'ISOPND', 'ISOPNB', 'MOBA', 'PROPNN', 'HAC', 'GLYC',\n",
       "       'MVKN', 'MACRN', 'RIP', 'IEPOX', 'MAP', 'NO2', 'NO3', 'HNO2', 'HO2',\n",
       "       'OH'],\n",
       "      dtype='object', name='var')"
      ]
     },
     "execution_count": 8,
     "metadata": {},
     "output_type": "execute_result"
    }
   ],
   "source": [
    "df_y.columns"
   ]
  },
  {
   "cell_type": "markdown",
   "metadata": {},
   "source": [
    "# Visualize"
   ]
  },
  {
   "cell_type": "markdown",
   "metadata": {},
   "source": [
    "Just some simple plots to make sure the data make sense.\n",
    "\n",
    "Pressure and air number density are highly correlated, obviously..."
   ]
  },
  {
   "cell_type": "code",
   "execution_count": 9,
   "metadata": {},
   "outputs": [
    {
     "data": {
      "text/plain": [
       "<matplotlib.axes._subplots.AxesSubplot at 0x7fa999b0beb8>"
      ]
     },
     "execution_count": 9,
     "metadata": {},
     "output_type": "execute_result"
    },
    {
     "data": {
      "image/png": "[encoded data removed]",
      "text/plain": [
       "<matplotlib.figure.Figure at 0x7fa99e7a6c50>"
      ]
     },
     "metadata": {},
     "output_type": "display_data"
    }
   ],
   "source": [
    "df_x.plot.scatter(x='PRESS', y='NUMDEN', s=0.1, alpha=0.1)"
   ]
  },
  {
   "cell_type": "markdown",
   "metadata": {},
   "source": [
    "J values are highly correlated, obviously..."
   ]
  },
  {
   "cell_type": "code",
   "execution_count": 10,
   "metadata": {},
   "outputs": [
    {
     "data": {
      "text/plain": [
       "<matplotlib.axes._subplots.AxesSubplot at 0x7fa999b0b6a0>"
      ]
     },
     "execution_count": 10,
     "metadata": {},
     "output_type": "execute_result"
    },
    {
     "data": {
      "image/png": "[encoded data removed]",
      "text/plain": [
       "<matplotlib.figure.Figure at 0x7fa9c9a5a978>"
      ]
     },
     "metadata": {},
     "output_type": "display_data"
    }
   ],
   "source": [
    "df_x.plot.scatter(x='JV11', y='JV12', s=0.1, alpha=0.1)"
   ]
  },
  {
   "cell_type": "markdown",
   "metadata": {},
   "source": [
    "# Random Forest Regression"
   ]
  },
  {
   "cell_type": "code",
   "execution_count": 11,
   "metadata": {},
   "outputs": [],
   "source": [
    "from sklearn.ensemble import RandomForestRegressor"
   ]
  },
  {
   "cell_type": "code",
   "execution_count": 12,
   "metadata": {},
   "outputs": [],
   "source": [
    "rf = RandomForestRegressor(n_estimators=15,\n",
    "                           n_jobs=15, \n",
    "                           max_leaf_nodes=50000, criterion='mse', verbose=5)"
   ]
  },
  {
   "cell_type": "code",
   "execution_count": 13,
   "metadata": {},
   "outputs": [
    {
     "name": "stdout",
     "output_type": "stream",
     "text": [
      "building tree 1 of 15\n",
      "building tree 2 of 15\n",
      "building tree 3 of 15\n",
      "building tree 4 of 15\n",
      "building tree 5 of 15\n",
      "building tree 6 of 15\n",
      "building tree 7 of 15\n",
      "building tree 8 of 15\n",
      "building tree 9 of 15\n",
      "building tree 10 of 15\n",
      "building tree 11 of 15\n",
      "building tree 12 of 15\n",
      "building tree 13 of 15building tree 14 of 15\n",
      "building tree 15 of 15\n",
      "\n"
     ]
    },
    {
     "name": "stderr",
     "output_type": "stream",
     "text": [
      "[Parallel(n_jobs=15)]: Done   2 out of  15 | elapsed:  5.4min remaining: 35.1min\n",
      "[Parallel(n_jobs=15)]: Done   6 out of  15 | elapsed:  5.4min remaining:  8.2min\n",
      "[Parallel(n_jobs=15)]: Done  10 out of  15 | elapsed:  5.5min remaining:  2.8min\n"
     ]
    },
    {
     "name": "stdout",
     "output_type": "stream",
     "text": [
      "CPU times: user 1h 22min 18s, sys: 552 ms, total: 1h 22min 18s\n",
      "Wall time: 5min 40s\n"
     ]
    },
    {
     "name": "stderr",
     "output_type": "stream",
     "text": [
      "[Parallel(n_jobs=15)]: Done  15 out of  15 | elapsed:  5.7min finished\n"
     ]
    },
    {
     "data": {
      "text/plain": [
       "RandomForestRegressor(bootstrap=True, criterion='mse', max_depth=None,\n",
       "           max_features='auto', max_leaf_nodes=50000,\n",
       "           min_impurity_decrease=0.0, min_impurity_split=None,\n",
       "           min_samples_leaf=1, min_samples_split=2,\n",
       "           min_weight_fraction_leaf=0.0, n_estimators=15, n_jobs=15,\n",
       "           oob_score=False, random_state=None, verbose=5, warm_start=False)"
      ]
     },
     "execution_count": 13,
     "metadata": {},
     "output_type": "execute_result"
    }
   ],
   "source": [
    "%time rf.fit(df_x, df_y)"
   ]
  },
  {
   "cell_type": "code",
   "execution_count": 14,
   "metadata": {},
   "outputs": [
    {
     "name": "stderr",
     "output_type": "stream",
     "text": [
      "[Parallel(n_jobs=15)]: Done   2 out of  15 | elapsed:    1.0s remaining:    6.6s\n",
      "[Parallel(n_jobs=15)]: Done   6 out of  15 | elapsed:    1.4s remaining:    2.1s\n",
      "[Parallel(n_jobs=15)]: Done  10 out of  15 | elapsed:    1.8s remaining:    0.9s\n"
     ]
    },
    {
     "name": "stdout",
     "output_type": "stream",
     "text": [
      "CPU times: user 13 s, sys: 2.04 s, total: 15 s\n",
      "Wall time: 2.6 s\n"
     ]
    },
    {
     "name": "stderr",
     "output_type": "stream",
     "text": [
      "[Parallel(n_jobs=15)]: Done  15 out of  15 | elapsed:    2.2s finished\n"
     ]
    },
    {
     "data": {
      "text/plain": [
       "(1000000, 55)"
      ]
     },
     "execution_count": 14,
     "metadata": {},
     "output_type": "execute_result"
    }
   ],
   "source": [
    "%time y_pred = rf.predict(df_x)\n",
    "y_pred.shape"
   ]
  },
  {
   "cell_type": "markdown",
   "metadata": {},
   "source": [
    "O3 looks pretty good, but that's largely because the change per time step is too small. Will need to evaluate the whole time series."
   ]
  },
  {
   "cell_type": "code",
   "execution_count": 20,
   "metadata": {},
   "outputs": [
    {
     "name": "stdout",
     "output_type": "stream",
     "text": [
      "CPU times: user 11.2 s, sys: 24 ms, total: 11.2 s\n",
      "Wall time: 11.2 s\n"
     ]
    },
    {
     "data": {
      "image/png": "[encoded data removed]",
      "text/plain": [
       "<matplotlib.figure.Figure at 0x7fa91d0a8438>"
      ]
     },
     "metadata": {},
     "output_type": "display_data"
    }
   ],
   "source": [
    "%%time\n",
    "plt.figure(figsize=[12, 6])\n",
    "for i, var in enumerate(['NO', 'O3', 'PAN', 'CO', 'OH', 'ISOP']):\n",
    "    plt.subplot(2, 3, i+1)\n",
    "    index = df_y.columns.get_loc(var)\n",
    "    plt.scatter(y_pred[:,index], df_y.values[:,index], \n",
    "                s=0.1, alpha=0.1)\n",
    "    plt.title(var)\n",
    "plt.suptitle('prediction  vs  true')"
   ]
  },
  {
   "cell_type": "code",
   "execution_count": 19,
   "metadata": {},
   "outputs": [
    {
     "name": "stdout",
     "output_type": "stream",
     "text": [
      "CPU times: user 10 s, sys: 184 ms, total: 10.2 s\n",
      "Wall time: 10.2 s\n"
     ]
    },
    {
     "data": {
      "image/png": "[encoded data removed]",
      "text/plain": [
       "<matplotlib.figure.Figure at 0x7fa8cf715da0>"
      ]
     },
     "metadata": {},
     "output_type": "display_data"
    }
   ],
   "source": [
    "%%time\n",
    "plt.figure(figsize=[12, 6])\n",
    "for i, var in enumerate(['NO', 'O3', 'PAN', 'CO', 'ISOP']):\n",
    "    plt.subplot(2, 3, i+1)\n",
    "    plt.scatter(df_x[var], df_y[var], \n",
    "                s=0.1, alpha=0.1)\n",
    "    plt.title(var)\n",
    "plt.suptitle('current step  vs  next step')"
   ]
  },
  {
   "cell_type": "markdown",
   "metadata": {},
   "source": [
    "# Hardware info"
   ]
  },
  {
   "cell_type": "code",
   "execution_count": 16,
   "metadata": {},
   "outputs": [
    {
     "name": "stdout",
     "output_type": "stream",
     "text": [
      "Architecture:          x86_64\r\n",
      "CPU op-mode(s):        32-bit, 64-bit\r\n",
      "Byte Order:            Little Endian\r\n",
      "CPU(s):                16\r\n",
      "On-line CPU(s) list:   0-15\r\n",
      "Thread(s) per core:    2\r\n",
      "Core(s) per socket:    8\r\n",
      "Socket(s):             1\r\n",
      "NUMA node(s):          1\r\n",
      "Vendor ID:             GenuineIntel\r\n",
      "CPU family:            6\r\n",
      "Model:                 79\r\n",
      "Model name:            Intel(R) Xeon(R) CPU E5-2686 v4 @ 2.30GHz\r\n",
      "Stepping:              1\r\n",
      "CPU MHz:               2434.406\r\n",
      "CPU max MHz:           3000.0000\r\n",
      "CPU min MHz:           1200.0000\r\n",
      "BogoMIPS:              4600.10\r\n",
      "Hypervisor vendor:     Xen\r\n",
      "Virtualization type:   full\r\n",
      "L1d cache:             32K\r\n",
      "L1i cache:             32K\r\n",
      "L2 cache:              256K\r\n",
      "L3 cache:              46080K\r\n",
      "NUMA node0 CPU(s):     0-15\r\n",
      "Flags:                 fpu vme de pse tsc msr pae mce cx8 apic sep mtrr pge mca cmov pat pse36 clflush mmx fxsr sse sse2 ht syscall nx pdpe1gb rdtscp lm constant_tsc rep_good nopl xtopology aperfmperf eagerfpu pni pclmulqdq ssse3 fma cx16 pcid sse4_1 sse4_2 x2apic movbe popcnt tsc_deadline_timer aes xsave avx f16c rdrand hypervisor lahf_lm abm 3dnowprefetch invpcid_single kaiser fsgsbase bmi1 hle avx2 smep bmi2 erms invpcid rtm rdseed adx xsaveopt\r\n"
     ]
    }
   ],
   "source": [
    "!lscpu"
   ]
  }
 ],
 "metadata": {
  "kernelspec": {
   "display_name": "Python 3",
   "language": "python",
   "name": "python3"
  },
  "language_info": {
   "codemirror_mode": {
    "name": "ipython",
    "version": 3
   },
   "file_extension": ".py",
   "mimetype": "text/x-python",
   "name": "python",
   "nbconvert_exporter": "python",
   "pygments_lexer": "ipython3",
   "version": "3.6.4"
  }
 },
 "nbformat": 4,
 "nbformat_minor": 2
}
