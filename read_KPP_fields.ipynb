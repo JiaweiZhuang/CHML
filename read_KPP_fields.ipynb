{
 "cells": [
  {
   "cell_type": "code",
   "execution_count": 1,
   "metadata": {},
   "outputs": [],
   "source": [
    "import numpy as np\n",
    "import xarray as xr"
   ]
  },
  {
   "cell_type": "code",
   "execution_count": 2,
   "metadata": {},
   "outputs": [
    {
     "name": "stdout",
     "output_type": "stream",
     "text": [
      "netcdf KPP_fields {\r\n",
      "dimensions:\r\n",
      "\tlon = 72 ;\r\n",
      "\tlat = 46 ;\r\n",
      "\tlev = 72 ;\r\n",
      "\tnspec = 238 ;\r\n",
      "\tnphy = 4 ;\r\n",
      "\tnphotol = 130 ;\r\n",
      "\tnreact = 722 ;\r\n",
      "variables:\r\n",
      "\tdouble C_before(lev, lat, lon, nspec) ;\r\n",
      "\tdouble C_after(lev, lat, lon, nspec) ;\r\n",
      "\tdouble PHOTOL(lev, lat, lon, nphotol) ;\r\n",
      "\tdouble PHY(lev, lat, lon, nphy) ;\r\n",
      "\tdouble RCONST(lev, lat, lon, nreact) ;\r\n",
      "}\r\n"
     ]
    }
   ],
   "source": [
    "!ncdump -h ./KPP_fields.nc"
   ]
  },
  {
   "cell_type": "code",
   "execution_count": 3,
   "metadata": {},
   "outputs": [
    {
     "data": {
      "text/plain": [
       "<xarray.Dataset>\n",
       "Dimensions:   (lat: 46, lev: 72, lon: 72, nphotol: 130, nphy: 4, nreact: 722, nspec: 238)\n",
       "Dimensions without coordinates: lat, lev, lon, nphotol, nphy, nreact, nspec\n",
       "Data variables:\n",
       "    C_before  (lev, lat, lon, nspec) float64 ...\n",
       "    C_after   (lev, lat, lon, nspec) float64 ...\n",
       "    PHOTOL    (lev, lat, lon, nphotol) float64 ...\n",
       "    PHY       (lev, lat, lon, nphy) float64 ...\n",
       "    RCONST    (lev, lat, lon, nreact) float64 ..."
      ]
     },
     "execution_count": 3,
     "metadata": {},
     "output_type": "execute_result"
    }
   ],
   "source": [
    "ds = xr.open_dataset('./KPP_fields.nc')\n",
    "ds"
   ]
  },
  {
   "cell_type": "code",
   "execution_count": 4,
   "metadata": {},
   "outputs": [
    {
     "data": {
      "text/plain": [
       "array([24839.56544488, 24553.34702757, 24282.4749841 , 24003.89385029,\n",
       "       23677.08707323, 23201.55673611, 22673.99988019, 22214.08142701,\n",
       "       21793.78622237, 21415.12148885, 21045.04714052, 20682.35476144,\n",
       "       20272.27175507, 19769.43199148, 19235.1081374 , 18712.65437778,\n",
       "       18205.67369702, 17717.646764  , 17113.4303838 , 16394.05854683,\n",
       "       15666.42621281, 14933.12281592, 13973.29893627, 12976.50466211,\n",
       "       12135.58780273, 11313.35664299, 10504.10458969,  9485.80975349,\n",
       "        8330.64684386,  7196.34485734,  6292.61423519,  5580.42025447,\n",
       "        4872.23114915,  4193.43039583,  3605.83456046,  3063.58503911,\n",
       "        2572.57980011,  2146.09554478,  1793.83313088,  1493.77654486,\n",
       "        1244.37645931,  1033.30543856,   856.39488797,   705.1014672 ,\n",
       "         577.99724599,   477.23072475,   393.37775246,   320.53873242,\n",
       "         259.77234382,   210.11000099,   169.5202157 ,   135.26899522,\n",
       "         106.78191369,    83.66228914,    65.47167275,    51.42446278,\n",
       "          40.39217551,    31.67235949,    24.90792106,     0.        ,\n",
       "           0.        ,     0.        ,     0.        ,     0.        ,\n",
       "           0.        ,     0.        ,     0.        ,     0.        ,\n",
       "           0.        ,     0.        ,     0.        ,     0.        ])"
      ]
     },
     "execution_count": 4,
     "metadata": {},
     "output_type": "execute_result"
    }
   ],
   "source": [
    "ds['C_before'].values[:, 30, 30, 226] # ID 227 is O3"
   ]
  },
  {
   "cell_type": "code",
   "execution_count": 5,
   "metadata": {},
   "outputs": [
    {
     "data": {
      "text/plain": [
       "True"
      ]
     },
     "execution_count": 5,
     "metadata": {},
     "output_type": "execute_result"
    }
   ],
   "source": [
    "np.allclose(ds['C_before'], ds['C_after']) # something wrong here"
   ]
  }
 ],
 "metadata": {
  "kernelspec": {
   "display_name": "Python 3",
   "language": "python",
   "name": "python3"
  },
  "language_info": {
   "codemirror_mode": {
    "name": "ipython",
    "version": 3
   },
   "file_extension": ".py",
   "mimetype": "text/x-python",
   "name": "python",
   "nbconvert_exporter": "python",
   "pygments_lexer": "ipython3",
   "version": "3.6.3"
  }
 },
 "nbformat": 4,
 "nbformat_minor": 2
}
