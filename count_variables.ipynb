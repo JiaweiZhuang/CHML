{
 "cells": [
  {
   "cell_type": "code",
   "execution_count": 1,
   "metadata": {},
   "outputs": [],
   "source": [
    "import xarray as xr"
   ]
  },
  {
   "cell_type": "markdown",
   "metadata": {},
   "source": [
    "# All species in diagnostics"
   ]
  },
  {
   "cell_type": "code",
   "execution_count": 2,
   "metadata": {},
   "outputs": [],
   "source": [
    "ds = xr.open_dataset('../geosfp_4x5_standard_NCdiag/GEOSChem.inst.all_spec_20130701.nc4')"
   ]
  },
  {
   "cell_type": "code",
   "execution_count": 3,
   "metadata": {},
   "outputs": [],
   "source": [
    "vars_raw = list(ds.data_vars.keys())"
   ]
  },
  {
   "cell_type": "code",
   "execution_count": 4,
   "metadata": {},
   "outputs": [],
   "source": [
    "species = []\n",
    "for v in vars_raw:\n",
    "    if 'SpeciesConc' in v:\n",
    "        species.append(v.replace('SpeciesConc_', ''))"
   ]
  },
  {
   "cell_type": "code",
   "execution_count": 5,
   "metadata": {},
   "outputs": [
    {
     "data": {
      "text/plain": [
       "255"
      ]
     },
     "execution_count": 5,
     "metadata": {},
     "output_type": "execute_result"
    }
   ],
   "source": [
    "len(species)"
   ]
  },
  {
   "cell_type": "markdown",
   "metadata": {},
   "source": [
    "# Species in KPP code"
   ]
  },
  {
   "cell_type": "code",
   "execution_count": 6,
   "metadata": {},
   "outputs": [],
   "source": [
    "kpp_code = \"\"\"  INTEGER, PARAMETER :: ind_CH2I2 = 1 \n",
    "  INTEGER, PARAMETER :: ind_CH2ICl = 2 \n",
    "  INTEGER, PARAMETER :: ind_CH2IBr = 3 \n",
    "  INTEGER, PARAMETER :: ind_MONX = 4 \n",
    "  INTEGER, PARAMETER :: ind_AERI = 5 \n",
    "  INTEGER, PARAMETER :: ind_CO2 = 6 \n",
    "  INTEGER, PARAMETER :: ind_INDIOL = 7 \n",
    "  INTEGER, PARAMETER :: ind_ISALA = 8 \n",
    "  INTEGER, PARAMETER :: ind_ISALC = 9 \n",
    "  INTEGER, PARAMETER :: ind_ISN1OA = 10 \n",
    "  INTEGER, PARAMETER :: ind_ISN1OG = 11 \n",
    "  INTEGER, PARAMETER :: ind_LBRO2H = 12 \n",
    "  INTEGER, PARAMETER :: ind_LBRO2N = 13 \n",
    "  INTEGER, PARAMETER :: ind_LISOPOH = 14 \n",
    "  INTEGER, PARAMETER :: ind_LISOPNO3 = 15 \n",
    "  INTEGER, PARAMETER :: ind_LTRO2H = 16 \n",
    "  INTEGER, PARAMETER :: ind_LTRO2N = 17 \n",
    "  INTEGER, PARAMETER :: ind_LVOCOA = 18 \n",
    "  INTEGER, PARAMETER :: ind_LVOC = 19 \n",
    "  INTEGER, PARAMETER :: ind_LXRO2H = 20 \n",
    "  INTEGER, PARAMETER :: ind_LXRO2N = 21 \n",
    "  INTEGER, PARAMETER :: ind_MSA = 22 \n",
    "  INTEGER, PARAMETER :: ind_PYAC = 23 \n",
    "  INTEGER, PARAMETER :: ind_SO4H1 = 24 \n",
    "  INTEGER, PARAMETER :: ind_SO4H2 = 25 \n",
    "  INTEGER, PARAMETER :: ind_SOAGX = 26 \n",
    "  INTEGER, PARAMETER :: ind_SOAIE = 27 \n",
    "  INTEGER, PARAMETER :: ind_SOAME = 28 \n",
    "  INTEGER, PARAMETER :: ind_IMAE = 29 \n",
    "  INTEGER, PARAMETER :: ind_SOAMG = 30 \n",
    "  INTEGER, PARAMETER :: ind_POx = 31 \n",
    "  INTEGER, PARAMETER :: ind_LOx = 32 \n",
    "  INTEGER, PARAMETER :: ind_PCO = 33 \n",
    "  INTEGER, PARAMETER :: ind_LCO = 34 \n",
    "  INTEGER, PARAMETER :: ind_PSO4 = 35 \n",
    "  INTEGER, PARAMETER :: ind_I2O4 = 36 \n",
    "  INTEGER, PARAMETER :: ind_DHDN = 37 \n",
    "  INTEGER, PARAMETER :: ind_DHDC = 38 \n",
    "  INTEGER, PARAMETER :: ind_I2O2 = 39 \n",
    "  INTEGER, PARAMETER :: ind_CH3CCl3 = 40 \n",
    "  INTEGER, PARAMETER :: ind_MONITA = 41 \n",
    "  INTEGER, PARAMETER :: ind_BENZ = 42 \n",
    "  INTEGER, PARAMETER :: ind_CH3I = 43 \n",
    "  INTEGER, PARAMETER :: ind_H1301 = 44 \n",
    "  INTEGER, PARAMETER :: ind_H2402 = 45 \n",
    "  INTEGER, PARAMETER :: ind_I2O3 = 46 \n",
    "  INTEGER, PARAMETER :: ind_PMNN = 47 \n",
    "  INTEGER, PARAMETER :: ind_PPN = 48 \n",
    "  INTEGER, PARAMETER :: ind_TOLU = 49 \n",
    "  INTEGER, PARAMETER :: ind_BrNO2 = 50 \n",
    "  INTEGER, PARAMETER :: ind_CCl4 = 51 \n",
    "  INTEGER, PARAMETER :: ind_CFC11 = 52 \n",
    "  INTEGER, PARAMETER :: ind_CFC12 = 53 \n",
    "  INTEGER, PARAMETER :: ind_CFC113 = 54 \n",
    "  INTEGER, PARAMETER :: ind_CFC114 = 55 \n",
    "  INTEGER, PARAMETER :: ind_CFC115 = 56 \n",
    "  INTEGER, PARAMETER :: ind_H1211 = 57 \n",
    "  INTEGER, PARAMETER :: ind_IBr = 58 \n",
    "  INTEGER, PARAMETER :: ind_IEPOXD = 59 \n",
    "  INTEGER, PARAMETER :: ind_INO = 60 \n",
    "  INTEGER, PARAMETER :: ind_N2O = 61 \n",
    "  INTEGER, PARAMETER :: ind_TRO2 = 62 \n",
    "  INTEGER, PARAMETER :: ind_BRO2 = 63 \n",
    "  INTEGER, PARAMETER :: ind_IEPOXA = 64 \n",
    "  INTEGER, PARAMETER :: ind_IEPOXB = 65 \n",
    "  INTEGER, PARAMETER :: ind_IONITA = 66 \n",
    "  INTEGER, PARAMETER :: ind_N = 67 \n",
    "  INTEGER, PARAMETER :: ind_OCS = 68 \n",
    "  INTEGER, PARAMETER :: ind_XRO2 = 69 \n",
    "  INTEGER, PARAMETER :: ind_HI = 70 \n",
    "  INTEGER, PARAMETER :: ind_MAP = 71 \n",
    "  INTEGER, PARAMETER :: ind_CHBr3 = 72 \n",
    "  INTEGER, PARAMETER :: ind_ICl = 73 \n",
    "  INTEGER, PARAMETER :: ind_Cl2O2 = 74 \n",
    "  INTEGER, PARAMETER :: ind_IMAO3 = 75 \n",
    "  INTEGER, PARAMETER :: ind_CHCl3 = 76 \n",
    "  INTEGER, PARAMETER :: ind_MPN = 77 \n",
    "  INTEGER, PARAMETER :: ind_CH2Br2 = 78 \n",
    "  INTEGER, PARAMETER :: ind_CH2Cl2 = 79 \n",
    "  INTEGER, PARAMETER :: ind_HCFC123 = 80 \n",
    "  INTEGER, PARAMETER :: ind_ETP = 81 \n",
    "  INTEGER, PARAMETER :: ind_HCFC141b = 82 \n",
    "  INTEGER, PARAMETER :: ind_IONO = 83 \n",
    "  INTEGER, PARAMETER :: ind_ClNO2 = 84 \n",
    "  INTEGER, PARAMETER :: ind_HCFC142b = 85 \n",
    "  INTEGER, PARAMETER :: ind_HCFC22 = 86 \n",
    "  INTEGER, PARAMETER :: ind_OIO = 87 \n",
    "  INTEGER, PARAMETER :: ind_RA3P = 88 \n",
    "  INTEGER, PARAMETER :: ind_RB3P = 89 \n",
    "  INTEGER, PARAMETER :: ind_XYLE = 90 \n",
    "  INTEGER, PARAMETER :: ind_DMS = 91 \n",
    "  INTEGER, PARAMETER :: ind_CH3Cl = 92 \n",
    "  INTEGER, PARAMETER :: ind_CH3Br = 93 \n",
    "  INTEGER, PARAMETER :: ind_HNO4 = 94 \n",
    "  INTEGER, PARAMETER :: ind_ClOO = 95 \n",
    "  INTEGER, PARAMETER :: ind_HNO2 = 96 \n",
    "  INTEGER, PARAMETER :: ind_OClO = 97 \n",
    "  INTEGER, PARAMETER :: ind_PAN = 98 \n",
    "  INTEGER, PARAMETER :: ind_RP = 99 \n",
    "  INTEGER, PARAMETER :: ind_PP = 100 \n",
    "  INTEGER, PARAMETER :: ind_PRPN = 101 \n",
    "  INTEGER, PARAMETER :: ind_SO4 = 102 \n",
    "  INTEGER, PARAMETER :: ind_ALK4 = 103 \n",
    "  INTEGER, PARAMETER :: ind_PIP = 104 \n",
    "  INTEGER, PARAMETER :: ind_R4P = 105 \n",
    "  INTEGER, PARAMETER :: ind_HPALD = 106 \n",
    "  INTEGER, PARAMETER :: ind_BrCl = 107 \n",
    "  INTEGER, PARAMETER :: ind_N2O5 = 108 \n",
    "  INTEGER, PARAMETER :: ind_C3H8 = 109 \n",
    "  INTEGER, PARAMETER :: ind_DHPCARP = 110 \n",
    "  INTEGER, PARAMETER :: ind_Br2 = 111 \n",
    "  INTEGER, PARAMETER :: ind_HC187 = 112 \n",
    "  INTEGER, PARAMETER :: ind_HOI = 113 \n",
    "  INTEGER, PARAMETER :: ind_IAP = 114 \n",
    "  INTEGER, PARAMETER :: ind_VRP = 115 \n",
    "  INTEGER, PARAMETER :: ind_HPC52O2 = 116 \n",
    "  INTEGER, PARAMETER :: ind_ATOOH = 117 \n",
    "  INTEGER, PARAMETER :: ind_MOBA = 118 \n",
    "  INTEGER, PARAMETER :: ind_HONIT = 119 \n",
    "  INTEGER, PARAMETER :: ind_DHMOB = 120 \n",
    "  INTEGER, PARAMETER :: ind_RIPB = 121 \n",
    "  INTEGER, PARAMETER :: ind_ISNP = 122 \n",
    "  INTEGER, PARAMETER :: ind_MP = 123 \n",
    "  INTEGER, PARAMETER :: ind_BrSALA = 124 \n",
    "  INTEGER, PARAMETER :: ind_BrSALC = 125 \n",
    "  INTEGER, PARAMETER :: ind_MAOP = 126 \n",
    "  INTEGER, PARAMETER :: ind_MRP = 127 \n",
    "  INTEGER, PARAMETER :: ind_RIPA = 128 \n",
    "  INTEGER, PARAMETER :: ind_RIPD = 129 \n",
    "  INTEGER, PARAMETER :: ind_ETHLN = 130 \n",
    "  INTEGER, PARAMETER :: ind_EOH = 131 \n",
    "  INTEGER, PARAMETER :: ind_INPN = 132 \n",
    "  INTEGER, PARAMETER :: ind_C2H6 = 133 \n",
    "  INTEGER, PARAMETER :: ind_MTPA = 134 \n",
    "  INTEGER, PARAMETER :: ind_NPMN = 135 \n",
    "  INTEGER, PARAMETER :: ind_IONO2 = 136 \n",
    "  INTEGER, PARAMETER :: ind_MOBAOO = 137 \n",
    "  INTEGER, PARAMETER :: ind_DIBOO = 138 \n",
    "  INTEGER, PARAMETER :: ind_IPMN = 139 \n",
    "  INTEGER, PARAMETER :: ind_LIMO = 140 \n",
    "  INTEGER, PARAMETER :: ind_MACRNO2 = 141 \n",
    "  INTEGER, PARAMETER :: ind_H = 142 \n",
    "  INTEGER, PARAMETER :: ind_BrNO3 = 143 \n",
    "  INTEGER, PARAMETER :: ind_ROH = 144 \n",
    "  INTEGER, PARAMETER :: ind_MONITS = 145 \n",
    "  INTEGER, PARAMETER :: ind_I2 = 146 \n",
    "  INTEGER, PARAMETER :: ind_Cl2 = 147 \n",
    "  INTEGER, PARAMETER :: ind_ISOPNB = 148 \n",
    "  INTEGER, PARAMETER :: ind_ISNOHOO = 149 \n",
    "  INTEGER, PARAMETER :: ind_CH4 = 150 \n",
    "  INTEGER, PARAMETER :: ind_MVKOO = 151 \n",
    "  INTEGER, PARAMETER :: ind_ISNOOB = 152 \n",
    "  INTEGER, PARAMETER :: ind_GAOO = 153 \n",
    "  INTEGER, PARAMETER :: ind_CH3CHOO = 154 \n",
    "  INTEGER, PARAMETER :: ind_IEPOXOO = 155 \n",
    "  INTEGER, PARAMETER :: ind_GLYX = 156 \n",
    "  INTEGER, PARAMETER :: ind_MGLYOO = 157 \n",
    "  INTEGER, PARAMETER :: ind_MVKN = 158 \n",
    "  INTEGER, PARAMETER :: ind_PRN1 = 159 \n",
    "  INTEGER, PARAMETER :: ind_MONITU = 160 \n",
    "  INTEGER, PARAMETER :: ind_MGLOO = 161 \n",
    "  INTEGER, PARAMETER :: ind_A3O2 = 162 \n",
    "  INTEGER, PARAMETER :: ind_CH2OO = 163 \n",
    "  INTEGER, PARAMETER :: ind_PROPNN = 164 \n",
    "  INTEGER, PARAMETER :: ind_MAN2 = 165 \n",
    "  INTEGER, PARAMETER :: ind_ISNOOA = 166 \n",
    "  INTEGER, PARAMETER :: ind_PO2 = 167 \n",
    "  INTEGER, PARAMETER :: ind_B3O2 = 168 \n",
    "  INTEGER, PARAMETER :: ind_ISOPNDO2 = 169 \n",
    "  INTEGER, PARAMETER :: ind_MACROO = 170 \n",
    "  INTEGER, PARAMETER :: ind_R4N1 = 171 \n",
    "  INTEGER, PARAMETER :: ind_ISOP = 172 \n",
    "  INTEGER, PARAMETER :: ind_H2O2 = 173 \n",
    "  INTEGER, PARAMETER :: ind_MACRN = 174 \n",
    "  INTEGER, PARAMETER :: ind_MAOPO2 = 175 \n",
    "  INTEGER, PARAMETER :: ind_ATO2 = 176 \n",
    "  INTEGER, PARAMETER :: ind_HCOOH = 177 \n",
    "  INTEGER, PARAMETER :: ind_I = 178 \n",
    "  INTEGER, PARAMETER :: ind_RCO3 = 179 \n",
    "  INTEGER, PARAMETER :: ind_OLND = 180 \n",
    "  INTEGER, PARAMETER :: ind_OLNN = 181 \n",
    "  INTEGER, PARAMETER :: ind_LIMO2 = 182 \n",
    "  INTEGER, PARAMETER :: ind_IO = 183 \n",
    "  INTEGER, PARAMETER :: ind_KO2 = 184 \n",
    "  INTEGER, PARAMETER :: ind_HOBr = 185 \n",
    "  INTEGER, PARAMETER :: ind_ISOPNBO2 = 186 \n",
    "  INTEGER, PARAMETER :: ind_PIO2 = 187 \n",
    "  INTEGER, PARAMETER :: ind_HC5OO = 188 \n",
    "  INTEGER, PARAMETER :: ind_HNO3 = 189 \n",
    "  INTEGER, PARAMETER :: ind_ISOPND = 190 \n",
    "  INTEGER, PARAMETER :: ind_HOCl = 191 \n",
    "  INTEGER, PARAMETER :: ind_NMAO3 = 192 \n",
    "  INTEGER, PARAMETER :: ind_ACTA = 193 \n",
    "  INTEGER, PARAMETER :: ind_VRO2 = 194 \n",
    "  INTEGER, PARAMETER :: ind_ISN1 = 195 \n",
    "  INTEGER, PARAMETER :: ind_GLYC = 196 \n",
    "  INTEGER, PARAMETER :: ind_ClNO3 = 197 \n",
    "  INTEGER, PARAMETER :: ind_MGLY = 198 \n",
    "  INTEGER, PARAMETER :: ind_ACET = 199 \n",
    "  INTEGER, PARAMETER :: ind_HC5 = 200 \n",
    "  INTEGER, PARAMETER :: ind_RIO2 = 201 \n",
    "  INTEGER, PARAMETER :: ind_INO2 = 202 \n",
    "  INTEGER, PARAMETER :: ind_R4O2 = 203 \n",
    "  INTEGER, PARAMETER :: ind_ETO2 = 204 \n",
    "  INTEGER, PARAMETER :: ind_R4N2 = 205 \n",
    "  INTEGER, PARAMETER :: ind_HAC = 206 \n",
    "  INTEGER, PARAMETER :: ind_MRO2 = 207 \n",
    "  INTEGER, PARAMETER :: ind_BrO = 208 \n",
    "  INTEGER, PARAMETER :: ind_PRPE = 209 \n",
    "  INTEGER, PARAMETER :: ind_RCHO = 210 \n",
    "  INTEGER, PARAMETER :: ind_MEK = 211 \n",
    "  INTEGER, PARAMETER :: ind_MACR = 212 \n",
    "  INTEGER, PARAMETER :: ind_CH2O = 213 \n",
    "  INTEGER, PARAMETER :: ind_ALD2 = 214 \n",
    "  INTEGER, PARAMETER :: ind_MVK = 215 \n",
    "  INTEGER, PARAMETER :: ind_MCO3 = 216 \n",
    "  INTEGER, PARAMETER :: ind_SO2 = 217 \n",
    "  INTEGER, PARAMETER :: ind_MO2 = 218 \n",
    "  INTEGER, PARAMETER :: ind_CO = 219 \n",
    "  INTEGER, PARAMETER :: ind_Br = 220 \n",
    "  INTEGER, PARAMETER :: ind_OH = 221 \n",
    "  INTEGER, PARAMETER :: ind_NO3 = 222 \n",
    "  INTEGER, PARAMETER :: ind_NO2 = 223 \n",
    "  INTEGER, PARAMETER :: ind_HBr = 224 \n",
    "  INTEGER, PARAMETER :: ind_O3 = 225 \n",
    "  INTEGER, PARAMETER :: ind_HCl = 226 \n",
    "  INTEGER, PARAMETER :: ind_O1D = 227 \n",
    "  INTEGER, PARAMETER :: ind_HO2 = 228 \n",
    "  INTEGER, PARAMETER :: ind_NO = 229 \n",
    "  INTEGER, PARAMETER :: ind_Cl = 230 \n",
    "  INTEGER, PARAMETER :: ind_H2O = 231 \n",
    "  INTEGER, PARAMETER :: ind_ClO = 232 \n",
    "  INTEGER, PARAMETER :: ind_O = 233 \n",
    "  INTEGER, PARAMETER :: ind_H2 = 234 \n",
    "  INTEGER, PARAMETER :: ind_MOH = 235 \n",
    "  INTEGER, PARAMETER :: ind_N2 = 236 \n",
    "  INTEGER, PARAMETER :: ind_O2 = 237 \n",
    "  INTEGER, PARAMETER :: ind_RCOOH = 238 \n",
    "\"\"\""
   ]
  },
  {
   "cell_type": "code",
   "execution_count": 7,
   "metadata": {},
   "outputs": [],
   "source": [
    "kpp_var = [r.replace('  INTEGER, PARAMETER :: ind_', '').split()[0] \n",
    "           for r in kpp_code.splitlines()]"
   ]
  },
  {
   "cell_type": "code",
   "execution_count": 8,
   "metadata": {},
   "outputs": [
    {
     "data": {
      "text/plain": [
       "238"
      ]
     },
     "execution_count": 8,
     "metadata": {},
     "output_type": "execute_result"
    }
   ],
   "source": [
    "len(kpp_var)"
   ]
  },
  {
   "cell_type": "markdown",
   "metadata": {},
   "source": [
    "# Non-KPP species"
   ]
  },
  {
   "cell_type": "code",
   "execution_count": 10,
   "metadata": {},
   "outputs": [
    {
     "data": {
      "text/plain": [
       "{'BCPI',\n",
       " 'BCPO',\n",
       " 'DST1',\n",
       " 'DST2',\n",
       " 'DST3',\n",
       " 'DST4',\n",
       " 'LOX',\n",
       " 'NH3',\n",
       " 'NH4',\n",
       " 'NIT',\n",
       " 'NITs',\n",
       " 'OCPI',\n",
       " 'OCPO',\n",
       " 'POX',\n",
       " 'SALA',\n",
       " 'SALC',\n",
       " 'SO4s',\n",
       " 'SOAP',\n",
       " 'SOAS'}"
      ]
     },
     "execution_count": 10,
     "metadata": {},
     "output_type": "execute_result"
    }
   ],
   "source": [
    "set(species) - set(kpp_var)  # all aerosols, makes sense"
   ]
  },
  {
   "cell_type": "code",
   "execution_count": null,
   "metadata": {},
   "outputs": [],
   "source": []
  }
 ],
 "metadata": {
  "kernelspec": {
   "display_name": "Python 3",
   "language": "python",
   "name": "python3"
  },
  "language_info": {
   "codemirror_mode": {
    "name": "ipython",
    "version": 3
   },
   "file_extension": ".py",
   "mimetype": "text/x-python",
   "name": "python",
   "nbconvert_exporter": "python",
   "pygments_lexer": "ipython3",
   "version": "3.6.3"
  }
 },
 "nbformat": 4,
 "nbformat_minor": 2
}
