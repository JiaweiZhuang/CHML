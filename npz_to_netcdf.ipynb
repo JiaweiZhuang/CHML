{
 "cells": [
  {
   "cell_type": "code",
   "execution_count": 1,
   "metadata": {},
   "outputs": [],
   "source": [
    "import numpy as np\n",
    "import xarray as xr"
   ]
  },
  {
   "cell_type": "code",
   "execution_count": 2,
   "metadata": {},
   "outputs": [
    {
     "data": {
      "text/plain": [
       "<numpy.lib.npyio.NpzFile at 0x7fd6ef57fc88>"
      ]
     },
     "execution_count": 2,
     "metadata": {},
     "output_type": "execute_result"
    }
   ],
   "source": [
    "data = np.load('./Training.npz')\n",
    "data"
   ]
  },
  {
   "cell_type": "markdown",
   "metadata": {},
   "source": [
    "# Metadata"
   ]
  },
  {
   "cell_type": "code",
   "execution_count": 3,
   "metadata": {},
   "outputs": [
    {
     "data": {
      "text/plain": [
       "88"
      ]
     },
     "execution_count": 3,
     "metadata": {},
     "output_type": "execute_result"
    }
   ],
   "source": [
    "input_names = data['arr_0']\n",
    "input_names.size"
   ]
  },
  {
   "cell_type": "code",
   "execution_count": 4,
   "metadata": {},
   "outputs": [
    {
     "data": {
      "text/plain": [
       "array(['I', 'J', 'L', 'TEMP', 'PRESS', 'NUMDEN', 'H2O', 'JV1', 'JV2',\n",
       "       'JV3', 'JV4', 'JV5', 'JV6', 'JV7', 'JV8', 'JV9', 'JV10', 'JV11',\n",
       "       'JV12', 'NO', 'O3', 'PAN', 'CO', 'ALK4', 'ISOP', 'HNO3', 'H2O2',\n",
       "       'ACET', 'MEK', 'ALD2', 'RCHO', 'MVK', 'MACR', 'PMN', 'PPN', 'R4N2',\n",
       "       'PRPE', 'C3H8', 'CH2O', 'C2H6', 'N2O5', 'HNO4', 'MP', 'DMS', 'SO2',\n",
       "       'SO4', 'SO4s', 'MSA', 'NH3', 'NH4', 'NIT', 'NITs', 'BCPI', 'OCPI',\n",
       "       'BCPO', 'OCPO', 'DST1', 'DST2', 'DST3', 'DST4', 'SALA', 'SALC',\n",
       "       'Br2', 'Br', 'BrO', 'HOBr', 'HBr', 'BrNO2', 'BrNO3', 'CHBr3',\n",
       "       'CH2Br2', 'CH3Br', 'MPN', 'ISOPND', 'ISOPNB', 'MOBA', 'PROPNN',\n",
       "       'HAC', 'GLYC', 'MVKN', 'MACRN', 'RIP', 'IEPOX', 'MAP', 'NO2',\n",
       "       'NO3', 'HNO2', 'CH4'], dtype='<U6')"
      ]
     },
     "execution_count": 4,
     "metadata": {},
     "output_type": "execute_result"
    }
   ],
   "source": [
    "input_names = input_names.astype(str) # byte string to unicode\n",
    "input_names"
   ]
  },
  {
   "cell_type": "code",
   "execution_count": 5,
   "metadata": {},
   "outputs": [
    {
     "data": {
      "text/plain": [
       "55"
      ]
     },
     "execution_count": 5,
     "metadata": {},
     "output_type": "execute_result"
    }
   ],
   "source": [
    "pred_names = data['arr_1']\n",
    "pred_names.size"
   ]
  },
  {
   "cell_type": "code",
   "execution_count": 6,
   "metadata": {},
   "outputs": [
    {
     "data": {
      "text/plain": [
       "array(['NO', 'O3', 'PAN', 'CO', 'ALK4', 'ISOP', 'HNO3', 'H2O2', 'ACET',\n",
       "       'MEK', 'ALD2', 'RCHO', 'MVK', 'MACR', 'PMN', 'PPN', 'R4N2', 'PRPE',\n",
       "       'C3H8', 'CH2O', 'C2H6', 'N2O5', 'HNO4', 'MP', 'DMS', 'SO2', 'SO4',\n",
       "       'MSA', 'Br2', 'Br', 'BrO', 'HOBr', 'HBr', 'BrNO2', 'BrNO3',\n",
       "       'CHBr3', 'CH2Br2', 'CH3Br', 'MPN', 'ISOPND', 'ISOPNB', 'MOBA',\n",
       "       'PROPNN', 'HAC', 'GLYC', 'MVKN', 'MACRN', 'RIP', 'IEPOX', 'MAP',\n",
       "       'NO2', 'NO3', 'HNO2', 'HO2', 'OH'], dtype='<U6')"
      ]
     },
     "execution_count": 6,
     "metadata": {},
     "output_type": "execute_result"
    }
   ],
   "source": [
    "pred_names = pred_names.astype(str)\n",
    "pred_names"
   ]
  },
  {
   "cell_type": "markdown",
   "metadata": {},
   "source": [
    "# Numerical data"
   ]
  },
  {
   "cell_type": "markdown",
   "metadata": {},
   "source": [
    "## Input"
   ]
  },
  {
   "cell_type": "code",
   "execution_count": 7,
   "metadata": {},
   "outputs": [
    {
     "name": "stdout",
     "output_type": "stream",
     "text": [
      "CPU times: user 46.9 s, sys: 51.2 s, total: 1min 38s\n",
      "Wall time: 2min 17s\n"
     ]
    }
   ],
   "source": [
    "%%time\n",
    "# this takes very long!!\n",
    "mega_input = data['arr_2']"
   ]
  },
  {
   "cell_type": "code",
   "execution_count": 8,
   "metadata": {},
   "outputs": [
    {
     "data": {
      "text/plain": [
       "((57852486, 88), 40.728150144)"
      ]
     },
     "execution_count": 8,
     "metadata": {},
     "output_type": "execute_result"
    }
   ],
   "source": [
    "mega_input.shape, mega_input.nbytes / 1e9"
   ]
  },
  {
   "cell_type": "code",
   "execution_count": 10,
   "metadata": {},
   "outputs": [
    {
     "data": {
      "text/plain": [
       "<xarray.DataArray 'data' (sample: 57852486, var: 88)>\n",
       "array([[1.0000e+00, 2.0000e+00, 2.0000e+00, ..., 5.7257e+02, 2.8759e+05,\n",
       "        3.7944e+13],\n",
       "       [1.0000e+00, 2.0000e+00, 6.0000e+00, ..., 1.7764e+03, 6.1624e+05,\n",
       "        3.5697e+13],\n",
       "       [1.0000e+00, 6.0000e+00, 8.0000e+00, ..., 1.4000e+04, 1.5113e+06,\n",
       "        4.5101e+13],\n",
       "       ...,\n",
       "       [7.2000e+01, 4.5000e+01, 1.0000e+01, ..., 9.4561e+03, 3.2533e+05,\n",
       "        4.2692e+13],\n",
       "       [7.2000e+01, 4.5000e+01, 1.1000e+01, ..., 9.5895e+03, 3.5187e+05,\n",
       "        4.1983e+13],\n",
       "       [7.2000e+01, 4.6000e+01, 1.0000e+01, ..., 9.4617e+03, 3.2552e+05,\n",
       "        4.2718e+13]])\n",
       "Coordinates:\n",
       "  * var      (var) <U6 'I' 'J' 'L' 'TEMP' 'PRESS' 'NUMDEN' 'H2O' 'JV1' 'JV2' ...\n",
       "Dimensions without coordinates: sample"
      ]
     },
     "execution_count": 10,
     "metadata": {},
     "output_type": "execute_result"
    }
   ],
   "source": [
    "dr_input = xr.DataArray(mega_input, name='data',\n",
    "                        dims=['sample', 'var'],\n",
    "                        coords={'var': input_names})\n",
    "dr_input"
   ]
  },
  {
   "cell_type": "code",
   "execution_count": 11,
   "metadata": {},
   "outputs": [
    {
     "name": "stdout",
     "output_type": "stream",
     "text": [
      "CPU times: user 8.1 s, sys: 20 s, total: 28.1 s\n",
      "Wall time: 2min 35s\n"
     ]
    }
   ],
   "source": [
    "%%time\n",
    "# saving to file also takes very long!!\n",
    "dr_input.to_netcdf('./train_X.nc')"
   ]
  },
  {
   "cell_type": "code",
   "execution_count": 12,
   "metadata": {},
   "outputs": [
    {
     "name": "stdout",
     "output_type": "stream",
     "text": [
      "netcdf train_X {\r\n",
      "dimensions:\r\n",
      "\tvar = 88 ;\r\n",
      "\tsample = 57852486 ;\r\n",
      "variables:\r\n",
      "\tstring var(var) ;\r\n",
      "\tdouble data(sample, var) ;\r\n",
      "\t\tdata :_FillValue = NaN ;\r\n",
      "}\r\n"
     ]
    }
   ],
   "source": [
    "!ncdump -h train_X.nc"
   ]
  },
  {
   "cell_type": "markdown",
   "metadata": {},
   "source": [
    "## Output"
   ]
  },
  {
   "cell_type": "code",
   "execution_count": 7,
   "metadata": {},
   "outputs": [
    {
     "name": "stdout",
     "output_type": "stream",
     "text": [
      "CPU times: user 27.7 s, sys: 10.4 s, total: 38.1 s\n",
      "Wall time: 38.1 s\n"
     ]
    }
   ],
   "source": [
    "%%time\n",
    "# this again takes very long!!\n",
    "mega_pred = data['arr_3']"
   ]
  },
  {
   "cell_type": "code",
   "execution_count": 10,
   "metadata": {},
   "outputs": [
    {
     "data": {
      "text/plain": [
       "<xarray.DataArray 'data' (sample: 57852486, var: 55)>\n",
       "array([[1.0000e+00, 5.9604e+11, 1.7449e+08, ..., 2.8782e+05, 2.8505e+04,\n",
       "        3.7376e+01],\n",
       "       [1.0000e+00, 5.8733e+11, 1.8214e+08, ..., 6.1685e+05, 2.7071e+04,\n",
       "        3.9640e+01],\n",
       "       [1.3892e+06, 6.9971e+11, 2.8033e+08, ..., 1.1089e+06, 5.7318e+06,\n",
       "        1.5475e+04],\n",
       "       ...,\n",
       "       [7.8788e+07, 5.0154e+11, 3.5628e+08, ..., 4.3907e+05, 1.4725e+08,\n",
       "        7.9132e+05],\n",
       "       [8.2930e+07, 5.1686e+11, 4.0054e+08, ..., 4.7585e+05, 1.5148e+08,\n",
       "        8.3062e+05],\n",
       "       [6.8626e+07, 5.0194e+11, 3.5677e+08, ..., 3.7586e+05, 1.2275e+08,\n",
       "        5.9364e+05]])\n",
       "Coordinates:\n",
       "  * var      (var) <U6 'NO' 'O3' 'PAN' 'CO' 'ALK4' 'ISOP' 'HNO3' 'H2O2' ...\n",
       "Dimensions without coordinates: sample"
      ]
     },
     "execution_count": 10,
     "metadata": {},
     "output_type": "execute_result"
    }
   ],
   "source": [
    "dr_pred = xr.DataArray(mega_pred, name='data',\n",
    "                       dims=['sample', 'var'],\n",
    "                       coords={'var': pred_names})\n",
    "dr_pred"
   ]
  },
  {
   "cell_type": "code",
   "execution_count": 11,
   "metadata": {},
   "outputs": [
    {
     "name": "stdout",
     "output_type": "stream",
     "text": [
      "CPU times: user 3.56 s, sys: 13.6 s, total: 17.2 s\n",
      "Wall time: 51.7 s\n"
     ]
    }
   ],
   "source": [
    "%%time\n",
    "# saving to file also takes very long!!\n",
    "dr_pred.to_netcdf('./train_Y.nc')"
   ]
  },
  {
   "cell_type": "code",
   "execution_count": 12,
   "metadata": {},
   "outputs": [
    {
     "name": "stdout",
     "output_type": "stream",
     "text": [
      "netcdf train_Y {\r\n",
      "dimensions:\r\n",
      "\tvar = 55 ;\r\n",
      "\tsample = 57852486 ;\r\n",
      "variables:\r\n",
      "\tstring var(var) ;\r\n",
      "\tdouble data(sample, var) ;\r\n",
      "\t\tdata :_FillValue = NaN ;\r\n",
      "}\r\n"
     ]
    }
   ],
   "source": [
    "!ncdump -h train_Y.nc"
   ]
  }
 ],
 "metadata": {
  "kernelspec": {
   "display_name": "Python 3",
   "language": "python",
   "name": "python3"
  },
  "language_info": {
   "codemirror_mode": {
    "name": "ipython",
    "version": 3
   },
   "file_extension": ".py",
   "mimetype": "text/x-python",
   "name": "python",
   "nbconvert_exporter": "python",
   "pygments_lexer": "ipython3",
   "version": "3.6.4"
  }
 },
 "nbformat": 4,
 "nbformat_minor": 2
}
