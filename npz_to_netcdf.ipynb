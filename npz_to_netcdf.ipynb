{
 "cells": [
  {
   "cell_type": "code",
   "execution_count": 1,
   "metadata": {},
   "outputs": [],
   "source": [
    "import numpy as np"
   ]
  },
  {
   "cell_type": "code",
   "execution_count": 2,
   "metadata": {},
   "outputs": [
    {
     "data": {
      "text/plain": [
       "<numpy.lib.npyio.NpzFile at 0x7fa5f80680b8>"
      ]
     },
     "execution_count": 2,
     "metadata": {},
     "output_type": "execute_result"
    }
   ],
   "source": [
    "data = np.load('./Training.npz')\n",
    "data"
   ]
  },
  {
   "cell_type": "markdown",
   "metadata": {},
   "source": [
    "# Metadata"
   ]
  },
  {
   "cell_type": "code",
   "execution_count": 3,
   "metadata": {},
   "outputs": [
    {
     "data": {
      "text/plain": [
       "88"
      ]
     },
     "execution_count": 3,
     "metadata": {},
     "output_type": "execute_result"
    }
   ],
   "source": [
    "input_names = data['arr_0']\n",
    "input_names.size"
   ]
  },
  {
   "cell_type": "code",
   "execution_count": 4,
   "metadata": {},
   "outputs": [
    {
     "data": {
      "text/plain": [
       "array([b'I', b'J', b'L', b'TEMP', b'PRESS', b'NUMDEN', b'H2O', b'JV1',\n",
       "       b'JV2', b'JV3', b'JV4', b'JV5', b'JV6', b'JV7', b'JV8', b'JV9',\n",
       "       b'JV10', b'JV11', b'JV12', b'NO', b'O3', b'PAN', b'CO', b'ALK4',\n",
       "       b'ISOP', b'HNO3', b'H2O2', b'ACET', b'MEK', b'ALD2', b'RCHO',\n",
       "       b'MVK', b'MACR', b'PMN', b'PPN', b'R4N2', b'PRPE', b'C3H8',\n",
       "       b'CH2O', b'C2H6', b'N2O5', b'HNO4', b'MP', b'DMS', b'SO2', b'SO4',\n",
       "       b'SO4s', b'MSA', b'NH3', b'NH4', b'NIT', b'NITs', b'BCPI', b'OCPI',\n",
       "       b'BCPO', b'OCPO', b'DST1', b'DST2', b'DST3', b'DST4', b'SALA',\n",
       "       b'SALC', b'Br2', b'Br', b'BrO', b'HOBr', b'HBr', b'BrNO2',\n",
       "       b'BrNO3', b'CHBr3', b'CH2Br2', b'CH3Br', b'MPN', b'ISOPND',\n",
       "       b'ISOPNB', b'MOBA', b'PROPNN', b'HAC', b'GLYC', b'MVKN', b'MACRN',\n",
       "       b'RIP', b'IEPOX', b'MAP', b'NO2', b'NO3', b'HNO2', b'CH4'],\n",
       "      dtype='|S6')"
      ]
     },
     "execution_count": 4,
     "metadata": {},
     "output_type": "execute_result"
    }
   ],
   "source": [
    "input_names"
   ]
  },
  {
   "cell_type": "code",
   "execution_count": 5,
   "metadata": {},
   "outputs": [
    {
     "data": {
      "text/plain": [
       "55"
      ]
     },
     "execution_count": 5,
     "metadata": {},
     "output_type": "execute_result"
    }
   ],
   "source": [
    "pred_names = data['arr_1']\n",
    "pred_names.size"
   ]
  },
  {
   "cell_type": "code",
   "execution_count": 6,
   "metadata": {},
   "outputs": [
    {
     "data": {
      "text/plain": [
       "array([b'NO', b'O3', b'PAN', b'CO', b'ALK4', b'ISOP', b'HNO3', b'H2O2',\n",
       "       b'ACET', b'MEK', b'ALD2', b'RCHO', b'MVK', b'MACR', b'PMN', b'PPN',\n",
       "       b'R4N2', b'PRPE', b'C3H8', b'CH2O', b'C2H6', b'N2O5', b'HNO4',\n",
       "       b'MP', b'DMS', b'SO2', b'SO4', b'MSA', b'Br2', b'Br', b'BrO',\n",
       "       b'HOBr', b'HBr', b'BrNO2', b'BrNO3', b'CHBr3', b'CH2Br2', b'CH3Br',\n",
       "       b'MPN', b'ISOPND', b'ISOPNB', b'MOBA', b'PROPNN', b'HAC', b'GLYC',\n",
       "       b'MVKN', b'MACRN', b'RIP', b'IEPOX', b'MAP', b'NO2', b'NO3',\n",
       "       b'HNO2', b'HO2', b'OH'], dtype='|S6')"
      ]
     },
     "execution_count": 6,
     "metadata": {},
     "output_type": "execute_result"
    }
   ],
   "source": [
    "pred_names"
   ]
  },
  {
   "cell_type": "markdown",
   "metadata": {},
   "source": [
    "# Numerical data"
   ]
  },
  {
   "cell_type": "code",
   "execution_count": 7,
   "metadata": {},
   "outputs": [
    {
     "name": "stdout",
     "output_type": "stream",
     "text": [
      "CPU times: user 0 ns, sys: 0 ns, total: 0 ns\n",
      "Wall time: 10 µs\n"
     ]
    }
   ],
   "source": [
    "%%time\n",
    "# this takes very long!!\n",
    "# mega_input = data['arr_2']"
   ]
  },
  {
   "cell_type": "code",
   "execution_count": 8,
   "metadata": {},
   "outputs": [
    {
     "name": "stdout",
     "output_type": "stream",
     "text": [
      "CPU times: user 0 ns, sys: 0 ns, total: 0 ns\n",
      "Wall time: 9.78 µs\n"
     ]
    }
   ],
   "source": [
    "%%time\n",
    "# mega_pred = data['arr_3']"
   ]
  },
  {
   "cell_type": "code",
   "execution_count": null,
   "metadata": {},
   "outputs": [],
   "source": []
  }
 ],
 "metadata": {
  "kernelspec": {
   "display_name": "Python 3",
   "language": "python",
   "name": "python3"
  },
  "language_info": {
   "codemirror_mode": {
    "name": "ipython",
    "version": 3
   },
   "file_extension": ".py",
   "mimetype": "text/x-python",
   "name": "python",
   "nbconvert_exporter": "python",
   "pygments_lexer": "ipython3",
   "version": "3.6.4"
  }
 },
 "nbformat": 4,
 "nbformat_minor": 2
}
